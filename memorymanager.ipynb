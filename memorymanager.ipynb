{
 "cells": [
  {
   "cell_type": "code",
   "execution_count": 3,
   "metadata": {},
   "outputs": [],
   "source": [
    "from sqlalchemy.orm import sessionmaker\n",
    "from sqlalchemy import create_engine\n",
    "from Schemas import Base, MemRam, Arena, Pool, Block, Ledger\n",
    "from sqlalchemy.sql import func\n",
    "import helpers.listeners \n",
    "import json\n",
    "import re\n",
    "import hashlib\n",
    "\n"
   ]
  },
  {
   "cell_type": "code",
   "execution_count": 4,
   "metadata": {},
   "outputs": [],
   "source": [
    "class MemManager:\n",
    "    def __init__(self, db_url: str) -> None:\n",
    "        # Skapa en databasanslutning\n",
    "        self.engine = create_engine(db_url)\n",
    "        Base.metadata.create_all(self.engine)  # Skapa tabellerna\n",
    "        Session = sessionmaker(bind=self.engine)\n",
    "        self.session = Session()\n",
    "\n",
    "        # Skapa en ny MemRam-post\n",
    "        self.memram = MemRam()\n",
    "        self.session.add(self.memram)\n",
    "        self.session.commit()\n",
    "\n",
    "    def add_arena(self) -> Arena:\n",
    "        \"\"\"Skapa och lägg till en ny arena i databasen.\"\"\"\n",
    "        new_arena = Arena()\n",
    "        new_arena.memram = self.memram\n",
    "        self.session.add(new_arena)\n",
    "        self.session.commit()\n",
    "        return new_arena\n",
    "\n",
    "    def add_pool(self, arena: Arena) -> Pool:\n",
    "        \"\"\"Skapa och lägg till en ny pool till en specifik arena.\"\"\"\n",
    "        new_pool = Pool()\n",
    "        new_pool.arena = arena\n",
    "        self.session.add(new_pool)\n",
    "        self.session.commit()\n",
    "        return new_pool\n",
    "\n",
    "    def add_block(self, pool: Pool) -> Block:\n",
    "        \"\"\"Skapa och lägg till ett nytt block till en specifik pool.\"\"\"\n",
    "        new_block = Block()\n",
    "        new_block.pool = pool\n",
    "        self.session.add(new_block)\n",
    "        self.session.commit()\n",
    "        return new_block\n",
    "\n",
    "    def generate_object_id(self, identifier):\n",
    "        \"\"\"Generate a consistent object_id for a given identifier.\"\"\"\n",
    "        if isinstance(identifier, str):\n",
    "            # Check if the string is already a SHA-256 hash\n",
    "            if re.fullmatch(r'[a-f0-9]{64}', identifier):\n",
    "                return identifier\n",
    "            else:\n",
    "                # Assume the string is an object and hash it\n",
    "                serialized_obj = json.dumps(identifier, sort_keys=True)\n",
    "                return hashlib.sha256(serialized_obj.encode('utf-8')).hexdigest()\n",
    "        else:\n",
    "            # Serialize and hash the object\n",
    "            serialized_obj = json.dumps(identifier, sort_keys=True)\n",
    "            return hashlib.sha256(serialized_obj.encode('utf-8')).hexdigest()\n",
    "\n",
    "    def allocate_memory_for_object(self, obj_instance) -> None:\n",
    "        \"\"\"Allokera minne för ett objekt genom att skapa nödvändiga arenor, pooler och block.\"\"\"\n",
    "        obj_size = obj_instance.__sizeof__()\n",
    "\n",
    "        # Skapa en unik och konsistent identifierare för objektet\n",
    "        object_id = self.generate_object_id(obj_instance)\n",
    "\n",
    "        # Kontrollera om det finns tillräckligt med minne i MemRam\n",
    "        if self.memram.max_mem < obj_size:\n",
    "            raise MemoryError(\"Inte tillräckligt med minne för att allokera objektet.\")\n",
    "        \n",
    "        remaining_size = obj_size\n",
    "        blocks_to_update = []\n",
    "\n",
    "        # Hämta block som har tillräckligt med utrymme för objektet\n",
    "        while remaining_size > 0:\n",
    "            suitable_block = self.session.query(Block).filter(\n",
    "                Block.is_free == 1,\n",
    "                Block.max_mem - Block.mem > 0\n",
    "            ).first()\n",
    "\n",
    "            if suitable_block:\n",
    "                # Beräkna hur mycket utrymme som finns kvar i blocket\n",
    "                available_space = suitable_block.max_mem - suitable_block.mem\n",
    "                to_allocate = min(remaining_size, available_space)\n",
    "\n",
    "                # Lägg till del av objektet i blocket\n",
    "                suitable_block.mem += to_allocate\n",
    "                suitable_block.is_free = 0 if suitable_block.mem == suitable_block.max_mem else 1\n",
    "                remaining_size -= to_allocate\n",
    "                blocks_to_update.append(suitable_block)\n",
    "\n",
    "                # Lägg till en post i ledger\n",
    "                ledger_entry = Ledger(\n",
    "                    arena_id=suitable_block.pool.arena_id,\n",
    "                    pool_id=suitable_block.pool_id,\n",
    "                    block_id=suitable_block.id,\n",
    "                    object_id=object_id,\n",
    "                    allocated_mem=to_allocate\n",
    "                )\n",
    "                self.session.add(ledger_entry)\n",
    "            else:\n",
    "                # Hitta en arena med tillräckligt med utrymme för en ny pool\n",
    "                arena = self.session.query(Arena).filter(Arena.max_mem - Arena.mem > 0).first()\n",
    "                if not arena:\n",
    "                    arena = self.add_arena()\n",
    "                \n",
    "                # Kontrollera om det finns tillräckligt med pooler i arenan\n",
    "                pool = self.session.query(Pool).filter(Pool.arena_id == arena.id, Pool.max_mem - Pool.mem > 0).first()\n",
    "                if not pool:\n",
    "                    pool = self.add_pool(arena)\n",
    "                \n",
    "                # Skapa ett nytt block i poolen\n",
    "                block = self.add_block(pool)\n",
    "\n",
    "                # Beräkna hur mycket utrymme som finns kvar i blocket\n",
    "                available_space = block.max_mem - block.mem\n",
    "                to_allocate = min(remaining_size, available_space)\n",
    "\n",
    "                # Lägg till del av objektet i blocket\n",
    "                block.mem += to_allocate\n",
    "                block.is_free = 0 if block.mem == block.max_mem else 1\n",
    "                remaining_size -= to_allocate\n",
    "                blocks_to_update.append(block)\n",
    "\n",
    "                # Lägg till en post i ledger\n",
    "                ledger_entry = Ledger(\n",
    "                    arena_id=block.pool.arena_id,\n",
    "                    pool_id=block.pool_id,\n",
    "                    block_id=block.id,\n",
    "                    object_id=object_id,\n",
    "                    allocated_mem=to_allocate\n",
    "                )\n",
    "                self.session.add(ledger_entry)\n",
    "\n",
    "        # Batch commit\n",
    "        self.session.bulk_save_objects(blocks_to_update)\n",
    "        self.session.commit()\n",
    "\n",
    "        print(f\"Allocated {obj_size} bytes for object across multiple blocks.\")\n",
    "\n",
    "    def free_memory_for_object(self, identifier) -> None:\n",
    "        \"\"\"Frigör minne för ett objekt genom att uppdatera ledger och block.\"\"\"\n",
    "        # Kontrollera om identifieraren är ett objekt eller en sträng\n",
    "        object_id = self.generate_object_id(identifier)\n",
    "\n",
    "        print(f\"Freeing memory for object with identifier: {object_id}\")\n",
    "\n",
    "        # Hämta alla ledger-poster för det angivna object_id\n",
    "        ledger_entries = self.session.query(Ledger).filter(Ledger.object_id == object_id).all()\n",
    "\n",
    "        for ledger_entry in ledger_entries:\n",
    "            # Hämta motsvarande block\n",
    "            block = self.session.query(Block).filter(Block.id == ledger_entry.block_id).first()\n",
    "\n",
    "            if block:\n",
    "                # Frigör minne i blocket\n",
    "                allocated_mem = ledger_entry.allocated_mem\n",
    "                block.mem -= allocated_mem\n",
    "                # Låt event listener hantera is_free\n",
    "\n",
    "        # Ta bort alla ledger-poster för det angivna object_id\n",
    "        self.session.query(Ledger).filter(Ledger.object_id == object_id).delete()\n",
    "\n",
    "        # Spara ändringarna\n",
    "        self.session.commit()"
   ]
  },
  {
   "cell_type": "code",
   "execution_count": 5,
   "metadata": {},
   "outputs": [],
   "source": [
    "mem_manager = MemManager(r'sqlite:///C:\\Users\\Kev-pc\\Documents\\GitHub\\examination-2---Simulate-ram\\database.db')"
   ]
  },
  {
   "cell_type": "code",
   "execution_count": 6,
   "metadata": {},
   "outputs": [
    {
     "name": "stdout",
     "output_type": "stream",
     "text": [
      "Allocated 62 bytes for object across multiple blocks.\n"
     ]
    }
   ],
   "source": [
    "# Allokera minne för ett objekt\n",
    "obj = \"Hello, World!\"  # Exempelobjekt\n",
    "mem_manager.allocate_memory_for_object(obj)"
   ]
  },
  {
   "cell_type": "code",
   "execution_count": 7,
   "metadata": {},
   "outputs": [
    {
     "name": "stdout",
     "output_type": "stream",
     "text": [
      "Allocated 54 bytes for object across multiple blocks.\n"
     ]
    }
   ],
   "source": [
    "obj = \"test2\"\n",
    "mem_manager.allocate_memory_for_object(obj)"
   ]
  },
  {
   "cell_type": "code",
   "execution_count": 9,
   "metadata": {},
   "outputs": [
    {
     "name": "stdout",
     "output_type": "stream",
     "text": [
      "Freeing memory for object with identifier: 0ad6c6c70dcd9ecddbf200bbcb720325f0ac8487509534047ef4b730ebad1fc5\n"
     ]
    }
   ],
   "source": [
    "mem_manager.free_memory_for_object(obj)"
   ]
  },
  {
   "cell_type": "code",
   "execution_count": 8,
   "metadata": {},
   "outputs": [
    {
     "name": "stdout",
     "output_type": "stream",
     "text": [
      "Allocated 580049 bytes for object across multiple blocks.\n"
     ]
    }
   ],
   "source": [
    "obj = \"something very long something diffeernt then anything else\" *10000\n",
    "mem_manager.allocate_memory_for_object(obj)"
   ]
  },
  {
   "cell_type": "code",
   "execution_count": null,
   "metadata": {},
   "outputs": [],
   "source": []
  },
  {
   "cell_type": "code",
   "execution_count": null,
   "metadata": {},
   "outputs": [],
   "source": []
  }
 ],
 "metadata": {
  "kernelspec": {
   "display_name": "ram_sim_venv",
   "language": "python",
   "name": "python3"
  },
  "language_info": {
   "codemirror_mode": {
    "name": "ipython",
    "version": 3
   },
   "file_extension": ".py",
   "mimetype": "text/x-python",
   "name": "python",
   "nbconvert_exporter": "python",
   "pygments_lexer": "ipython3",
   "version": "3.11.7"
  }
 },
 "nbformat": 4,
 "nbformat_minor": 2
}
