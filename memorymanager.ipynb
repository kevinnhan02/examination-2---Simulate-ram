{
 "cells": [
  {
   "cell_type": "code",
   "execution_count": 2,
   "metadata": {},
   "outputs": [],
   "source": [
    "from memorymanager import MemManager\n",
    "from ram import RAM\n",
    "from arenatest_2 import Arena\n",
    "from pooltest_2 import Pool\n",
    "from blocktest_2 import Block"
   ]
  },
  {
   "cell_type": "code",
   "execution_count": 3,
   "metadata": {},
   "outputs": [],
   "source": [
    "\n",
    "# Step 2: Initialize the memory manager with the RAM instance\n",
    "ram = RAM()\n",
    "mem_manager = MemManager(ram)\n",
    "\n",
    "# Step 3: Add one arena, one pool, and one block\n",
    "arena = Arena(0)\n",
    "mem_manager.add_arena(arena)\n",
    "\n",
    "pool = Pool(0)\n",
    "mem_manager.add_pool(\"Arena 1\", pool)\n",
    "\n",
    "block = Block(0)\n",
    "mem_manager.add_block(\"Arena 1\", \"pool 1\", block)\n",
    "\n",
    "\n",
    "\n"
   ]
  },
  {
   "cell_type": "code",
   "execution_count": 7,
   "metadata": {},
   "outputs": [
    {
     "data": {
      "text/plain": [
       "262144"
      ]
     },
     "execution_count": 7,
     "metadata": {},
     "output_type": "execute_result"
    }
   ],
   "source": [
    "mem_manager.memory[\"arenas\"][\"arena_obj\"].iloc[0].get_remaining_unused_mem()"
   ]
  },
  {
   "cell_type": "code",
   "execution_count": null,
   "metadata": {},
   "outputs": [],
   "source": []
  }
 ],
 "metadata": {
  "kernelspec": {
   "display_name": "ram_sim_venv",
   "language": "python",
   "name": "python3"
  },
  "language_info": {
   "codemirror_mode": {
    "name": "ipython",
    "version": 3
   },
   "file_extension": ".py",
   "mimetype": "text/x-python",
   "name": "python",
   "nbconvert_exporter": "python",
   "pygments_lexer": "ipython3",
   "version": "3.10.8"
  }
 },
 "nbformat": 4,
 "nbformat_minor": 2
}
