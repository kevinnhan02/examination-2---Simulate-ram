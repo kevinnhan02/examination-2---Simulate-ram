{
 "cells": [
  {
   "cell_type": "code",
   "execution_count": 22,
   "metadata": {},
   "outputs": [],
   "source": [
    "from sqlalchemy.orm import sessionmaker\n",
    "from sqlalchemy import create_engine\n",
    "from database_models import Base, MemRam, Arena, Pool, Block, Ledger, StoredObject\n",
    "from sqlalchemy.sql import func\n",
    "import helpers.listeners\n",
    "import json\n",
    "import re\n",
    "import hashlib\n",
    "\n"
   ]
  },
  {
   "cell_type": "code",
   "execution_count": 23,
   "metadata": {},
   "outputs": [],
   "source": [
    "class MemManager:\n",
    "    def __init__(self, db_url: str) -> None:\n",
    "\n",
    "        self.engine = create_engine(db_url)\n",
    "        Base.metadata.create_all(self.engine)\n",
    "        Session = sessionmaker(bind=self.engine)\n",
    "        self.session = Session()\n",
    "\n",
    "        # Skapa en ny MemRam-post\n",
    "        self.memram = MemRam()\n",
    "        self.session.add(self.memram)\n",
    "        self.session.commit()\n",
    "\n",
    "    def add_arena(self) -> Arena:\n",
    "        \"\"\"Create a new arena and add it to the MemRam table\"\"\"\n",
    "        new_arena = Arena()\n",
    "        new_arena.memram = self.memram\n",
    "        self.session.add(new_arena)\n",
    "        self.session.commit()\n",
    "        return new_arena\n",
    "\n",
    "    def add_pool(self, arena: Arena) -> Pool:\n",
    "        \"\"\"Create a new pool and add it to the arena table\"\"\"\n",
    "        new_pool = Pool()\n",
    "        new_pool.arena = arena\n",
    "        self.session.add(new_pool)\n",
    "        self.session.commit()\n",
    "        return new_pool\n",
    "\n",
    "    def add_block(self, pool: Pool) -> Block:\n",
    "        \"\"\"Create a new block and add it to the pool table\"\"\"\n",
    "        new_block = Block()\n",
    "        new_block.pool = pool\n",
    "        self.session.add(new_block)\n",
    "        self.session.commit()\n",
    "        return new_block\n",
    "\n",
    "    def generate_object_id(self, identifier):\n",
    "        \"\"\"Generate a consistent object_id for a given identifier.\"\"\"\n",
    "        if isinstance(identifier, str):\n",
    "            # Check if the string is already a SHA-256 hash\n",
    "            if re.fullmatch(r'[a-f0-9]{64}', identifier):\n",
    "                return identifier\n",
    "            else:\n",
    "                # Assume the string is an object and hash it\n",
    "                serialized_obj = json.dumps(identifier, sort_keys=True)\n",
    "                return hashlib.sha256(serialized_obj.encode('utf-8')).hexdigest()\n",
    "        else:\n",
    "            # Serialize and hash the object\n",
    "            serialized_obj = json.dumps(identifier, sort_keys=True)\n",
    "            return hashlib.sha256(serialized_obj.encode('utf-8')).hexdigest()\n",
    "\n",
    "    def allocate_memory_for_object(self, obj_instance) -> None:\n",
    "        \"\"\"Allocate memory for an object by creating necessary arenas, pools and blocks.\"\"\"\n",
    "        obj_size = obj_instance.__sizeof__()\n",
    "\n",
    "        # Create a unique and consistent identifier for the object\n",
    "        object_id = self.generate_object_id(obj_instance)\n",
    "\n",
    "        if self.memram.max_mem < obj_size:\n",
    "            raise MemoryError(\"Not enough memory to allocate object.\")\n",
    "\n",
    "        remaining_size = obj_size\n",
    "        blocks_to_update = []\n",
    "\n",
    "        # Check if the object is already stored\n",
    "        stored_object = self.session.query(StoredObject).filter(StoredObject.object_id == object_id).first()\n",
    "        if stored_object:\n",
    "            print(f\"Object with identifier {object_id} already exists in the database.\")\n",
    "            return\n",
    "\n",
    "        # Store the object in the StoredObject table\n",
    "        stored_object = StoredObject(object_id=object_id, object_data=obj_instance)\n",
    "        self.session.add(stored_object)\n",
    "        self.session.commit()\n",
    "\n",
    "        # Get blocks that have enough space for the object\n",
    "        while remaining_size > 0:\n",
    "            suitable_block = self.session.query(Block).filter(\n",
    "                Block.is_free == 1,\n",
    "                Block.max_mem - Block.mem > 0\n",
    "            ).first()\n",
    "\n",
    "            if suitable_block:\n",
    "                # Calculate how much space is left in the block\n",
    "                available_space = suitable_block.max_mem - suitable_block.mem\n",
    "                to_allocate = min(remaining_size, available_space)\n",
    "\n",
    "                # Add part of the object to the block\n",
    "                suitable_block.mem += to_allocate\n",
    "                suitable_block.is_free = 0 if suitable_block.mem == suitable_block.max_mem else 1\n",
    "                remaining_size -= to_allocate\n",
    "                blocks_to_update.append(suitable_block)\n",
    "\n",
    "                # Add a post to the ledger\n",
    "                ledger_entry = Ledger(\n",
    "                    arena_id=suitable_block.pool.arena_id,\n",
    "                    pool_id=suitable_block.pool_id,\n",
    "                    block_id=suitable_block.id,\n",
    "                    object_id=object_id,\n",
    "                    allocated_mem=to_allocate\n",
    "                )\n",
    "                self.session.add(ledger_entry)\n",
    "            else:\n",
    "                # Find an arena with enough space for a new pool\n",
    "                arena = self.session.query(Arena).filter(Arena.max_mem - Arena.mem > 0).first()\n",
    "                if not arena:\n",
    "                    arena = self.add_arena()\n",
    "\n",
    "                # Check if there are enough pools in the arena\n",
    "                pool = self.session.query(Pool).filter(Pool.arena_id == arena.id, Pool.max_mem - Pool.mem > 0).first()\n",
    "                if not pool:\n",
    "                    pool = self.add_pool(arena)\n",
    "\n",
    "                # Create a new block in the pool\n",
    "                block = self.add_block(pool)\n",
    "\n",
    "                # Calculate how much space is left in the block\n",
    "                available_space = block.max_mem - block.mem\n",
    "                to_allocate = min(remaining_size, available_space)\n",
    "\n",
    "                # Add part of the object to the block\n",
    "                block.mem += to_allocate\n",
    "                block.is_free = 0 if block.mem == block.max_mem else 1\n",
    "                remaining_size -= to_allocate\n",
    "                blocks_to_update.append(block)\n",
    "\n",
    "                # Add a post to the ledger\n",
    "                ledger_entry = Ledger(\n",
    "                    arena_id=block.pool.arena_id,\n",
    "                    pool_id=block.pool_id,\n",
    "                    block_id=block.id,\n",
    "                    object_id=object_id,\n",
    "                    allocated_mem=to_allocate\n",
    "                )\n",
    "                self.session.add(ledger_entry)\n",
    "\n",
    "        # Batch commit\n",
    "        self.session.bulk_save_objects(blocks_to_update)\n",
    "        self.session.commit()\n",
    "\n",
    "        print(f\"Allocated {obj_size} bytes for object across multiple blocks.\")\n",
    "\n",
    "    def free_memory_for_object(self, identifier) -> None:\n",
    "        \"\"\"Free memory for an object by updating the ledger and blocks.\"\"\"\n",
    "        # Check if the identifier is an object or a string\n",
    "        object_id = self.generate_object_id(identifier)\n",
    "\n",
    "        print(f\"Freeing memory for object with identifier: {object_id}\")\n",
    "\n",
    "        # Get all ledger entries for the given object_id\n",
    "        ledger_entries = self.session.query(Ledger).filter(Ledger.object_id == object_id).all()\n",
    "\n",
    "        for ledger_entry in ledger_entries:\n",
    "            # Get the corresponding block\n",
    "            block = self.session.query(Block).filter(Block.id == ledger_entry.block_id).first()\n",
    "\n",
    "            if block:\n",
    "                # Free memory in the block\n",
    "                allocated_mem = ledger_entry.allocated_mem\n",
    "                block.mem -= allocated_mem\n",
    "                # Mark the block as dirty to trigger the listener\n",
    "                block.is_free = 0 if block.mem == block.max_mem else 1\n",
    "\n",
    "        # Delete all ledger entries for the given object_id\n",
    "        self.session.query(Ledger).filter(Ledger.object_id == object_id).delete()\n",
    "        self.session.query(StoredObject).filter(StoredObject.object_id == object_id).delete()\n",
    "\n",
    "        # Save the changes\n",
    "        self.session.commit()\n",
    "\n",
    "    def get_object(self, identifier):\n",
    "        \"\"\"Retrieve an object from the database using its identifier.\"\"\"\n",
    "        # Generate the object_id from the identifier\n",
    "        object_id = self.generate_object_id(identifier)\n",
    "\n",
    "        # Query the StoredObject table for the object\n",
    "        stored_object = self.session.query(StoredObject).filter(StoredObject.object_id == object_id).first()\n",
    "\n",
    "        if stored_object:\n",
    "            print(f\"Object {object_id} retrieved from the database.\")\n",
    "            return stored_object.object_data\n",
    "        else:\n",
    "            print(f\"Object {object_id} not found in the database.\")\n",
    "            return None"
   ]
  },
  {
   "cell_type": "code",
   "execution_count": 24,
   "metadata": {},
   "outputs": [],
   "source": [
    "mem_manager = MemManager(r'sqlite:///database.db')"
   ]
  },
  {
   "cell_type": "code",
   "execution_count": 25,
   "metadata": {},
   "outputs": [
    {
     "name": "stdout",
     "output_type": "stream",
     "text": [
      "Allocated 62 bytes for object across multiple blocks.\n"
     ]
    }
   ],
   "source": [
    "# Allokera minne för ett objekt\n",
    "obj = \"Hello, World!\"  # Exempelobjekt\n",
    "mem_manager.allocate_memory_for_object(obj)"
   ]
  },
  {
   "cell_type": "code",
   "execution_count": 26,
   "metadata": {},
   "outputs": [
    {
     "name": "stdout",
     "output_type": "stream",
     "text": [
      "Allocated 28 bytes for object across multiple blocks.\n"
     ]
    }
   ],
   "source": [
    "obj = 123*2\n",
    "mem_manager.allocate_memory_for_object(obj)"
   ]
  },
  {
   "cell_type": "code",
   "execution_count": 20,
   "metadata": {},
   "outputs": [
    {
     "name": "stdout",
     "output_type": "stream",
     "text": [
      "Freeing memory for object with identifier: cc82ebbcf8b60a5821d1c51c72cd79380ecea47de343ccb3b158938a2b3bf764\n"
     ]
    }
   ],
   "source": [
    "mem_manager.free_memory_for_object(\"cc82ebbcf8b60a5821d1c51c72cd79380ecea47de343ccb3b158938a2b3bf764\")"
   ]
  },
  {
   "cell_type": "code",
   "execution_count": 7,
   "metadata": {},
   "outputs": [
    {
     "name": "stdout",
     "output_type": "stream",
     "text": [
      "Object 37c20f19f3272b5ccc3a5d80587eb9deb3f4afcf568c4280fb195568da8eb1a2 retrieved from the database.\n"
     ]
    },
    {
     "data": {
      "text/plain": [
       "246"
      ]
     },
     "execution_count": 7,
     "metadata": {},
     "output_type": "execute_result"
    }
   ],
   "source": [
    "mem_manager.get_object(\"37c20f19f3272b5ccc3a5d80587eb9deb3f4afcf568c4280fb195568da8eb1a2\")"
   ]
  },
  {
   "cell_type": "code",
   "execution_count": 21,
   "metadata": {},
   "outputs": [
    {
     "name": "stdout",
     "output_type": "stream",
     "text": [
      "Freeing memory for object with identifier: 37c20f19f3272b5ccc3a5d80587eb9deb3f4afcf568c4280fb195568da8eb1a2\n"
     ]
    }
   ],
   "source": [
    "mem_manager.free_memory_for_object(\"37c20f19f3272b5ccc3a5d80587eb9deb3f4afcf568c4280fb195568da8eb1a2\")"
   ]
  },
  {
   "cell_type": "code",
   "execution_count": 8,
   "metadata": {},
   "outputs": [
    {
     "name": "stdout",
     "output_type": "stream",
     "text": [
      "Freeing memory for object with identifier: c6f9df8b40255b636b9b38f35dfecad50bdaf7797fa1f8a608c65ac2c4ce1cca\n",
      "Listener: Updating Block ID 1: is_free set to 1\n",
      "Listener: Updating Pool ID 1: mem set to 3646\n",
      "Listener: Updating Arena ID 1: mem set to 5461\n",
      "Listener: Updating MemRam ID 1: mem set to 5461\n",
      "Listener: Updating Block ID 2: is_free set to 1\n",
      "Listener: Updating Pool ID 1: mem set to 3134\n",
      "Listener: Updating Arena ID 1: mem set to 4949\n",
      "Listener: Updating MemRam ID 1: mem set to 4949\n",
      "Listener: Updating Block ID 3: is_free set to 1\n",
      "Listener: Updating Pool ID 1: mem set to 2622\n",
      "Listener: Updating Arena ID 1: mem set to 4437\n",
      "Listener: Updating MemRam ID 1: mem set to 4437\n",
      "Listener: Updating Block ID 4: is_free set to 1\n",
      "Listener: Updating Pool ID 1: mem set to 2110\n",
      "Listener: Updating Arena ID 1: mem set to 3925\n",
      "Listener: Updating MemRam ID 1: mem set to 3925\n",
      "Listener: Updating Block ID 5: is_free set to 1\n",
      "Listener: Updating Pool ID 1: mem set to 1598\n",
      "Listener: Updating Arena ID 1: mem set to 3413\n",
      "Listener: Updating MemRam ID 1: mem set to 3413\n",
      "Listener: Updating Block ID 6: is_free set to 1\n",
      "Listener: Updating Pool ID 1: mem set to 1086\n",
      "Listener: Updating Arena ID 1: mem set to 2901\n",
      "Listener: Updating MemRam ID 1: mem set to 2901\n",
      "Listener: Updating Block ID 7: is_free set to 1\n",
      "Listener: Updating Pool ID 1: mem set to 574\n",
      "Listener: Updating Arena ID 1: mem set to 2389\n",
      "Listener: Updating MemRam ID 1: mem set to 2389\n",
      "Listener: Updating Block ID 8: is_free set to 1\n",
      "Listener: Updating Pool ID 1: mem set to 62\n",
      "Listener: Updating Arena ID 1: mem set to 1877\n",
      "Listener: Updating MemRam ID 1: mem set to 1877\n",
      "Listener: Updating Block ID 9: is_free set to 1\n",
      "Listener: Updating Pool ID 2: mem set to 1303\n",
      "Listener: Updating Arena ID 1: mem set to 1365\n",
      "Listener: Updating MemRam ID 1: mem set to 1365\n",
      "Listener: Updating Block ID 10: is_free set to 1\n",
      "Listener: Updating Pool ID 2: mem set to 791\n",
      "Listener: Updating Arena ID 1: mem set to 853\n",
      "Listener: Updating MemRam ID 1: mem set to 853\n",
      "Listener: Updating Block ID 11: is_free set to 1\n",
      "Listener: Updating Pool ID 2: mem set to 279\n",
      "Listener: Updating Arena ID 1: mem set to 341\n",
      "Listener: Updating MemRam ID 1: mem set to 341\n",
      "Listener: Updating Block ID 12: is_free set to 1\n",
      "Listener: Updating Pool ID 2: mem set to 0\n",
      "Listener: Updating Arena ID 1: mem set to 62\n",
      "Listener: Updating MemRam ID 1: mem set to 62\n"
     ]
    }
   ],
   "source": [
    "mem_manager.free_memory_for_object(obj)"
   ]
  },
  {
   "cell_type": "code",
   "execution_count": 16,
   "metadata": {},
   "outputs": [
    {
     "name": "stdout",
     "output_type": "stream",
     "text": [
      "Allocated 5849 bytes for object across multiple blocks.\n"
     ]
    }
   ],
   "source": [
    "obj = \"something very long something diffeernt then anything else\" *100\n",
    "mem_manager.allocate_memory_for_object(obj)"
   ]
  },
  {
   "cell_type": "code",
   "execution_count": 17,
   "metadata": {},
   "outputs": [
    {
     "name": "stdout",
     "output_type": "stream",
     "text": [
      "Freeing memory for object with identifier: c6f9df8b40255b636b9b38f35dfecad50bdaf7797fa1f8a608c65ac2c4ce1cca\n"
     ]
    }
   ],
   "source": [
    "mem_manager.free_memory_for_object(obj)"
   ]
  },
  {
   "cell_type": "code",
   "execution_count": null,
   "metadata": {},
   "outputs": [],
   "source": []
  }
 ],
 "metadata": {
  "kernelspec": {
   "display_name": "base",
   "language": "python",
   "name": "python3"
  },
  "language_info": {
   "codemirror_mode": {
    "name": "ipython",
    "version": 3
   },
   "file_extension": ".py",
   "mimetype": "text/x-python",
   "name": "python",
   "nbconvert_exporter": "python",
   "pygments_lexer": "ipython3",
   "version": "3.10.9"
  }
 },
 "nbformat": 4,
 "nbformat_minor": 2
}
